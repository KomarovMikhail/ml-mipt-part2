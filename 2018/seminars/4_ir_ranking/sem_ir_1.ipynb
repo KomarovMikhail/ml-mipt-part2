{
 "cells": [
  {
   "cell_type": "markdown",
   "metadata": {},
   "source": [
    "<span style=\"font-size: 14pt\">MIPT, Information Retrieval, Autumn 2018</span>\n",
    "\n",
    "<span style=\"font-size: 16pt\"> Seminar #4: Ranking</span>\n",
    "\n",
    "<img width=300 src=\"priestor34.jpg\">\n",
    "\n",
    "На основе: https://github.com/fabianp/minirank/blob/master/notebooks/pairwise_transform.ipynb\n",
    "\n",
    "https://habrahabr.ru/post/263823/\n",
    "\n",
    "и семинаров Никиты Волкова\n",
    "\n",
    "<span style=\"color:blue; font-size: 12pt\">Анастасия Зухба</span>,\n",
    "<span style=\"color:blue; font-size: 12pt; font-family: 'Verdana'\">a__l@mail.ru</span>\n",
    "\n",
    "<span style=\"color:blue; font-size: 12pt\">Алексей Романенко</span>,\n",
    "<span style=\"color:blue; font-size: 12pt; font-family: 'Verdana'\">alexromsput@gmail.com</span>\n"
   ]
  },
  {
   "cell_type": "markdown",
   "metadata": {},
   "source": [
    "<h3> План </h3>\n",
    "     \n",
    "  * ** Постановка задачи ранжирования ** (10 минут)\n",
    "  * ** Функционалы качества ранжирования ** (10 минут)\n",
    "  * ** Построение признаков для задачи ранжирования ** (20 минут)\n",
    "  * ** Попарная трансформация ** (20 минут)\n",
    "  * ** RankLib (The Lemur Project)** (20 минут)\n",
    "  * ** \"Игрушечный\" поисковый движок ** (для самостоятельного изучения)</span> \n",
    "  "
   ]
  },
  {
   "cell_type": "markdown",
   "metadata": {},
   "source": [
    "# Постановка задачи ранжирования"
   ]
  },
  {
   "cell_type": "markdown",
   "metadata": {},
   "source": [
    "$X$ --- множество объектов\n",
    "\n",
    "$X^\\ell=\\{x_1,\\dots,x_\\ell\\}$ --- обучающая выборка\n",
    "\n",
    "$i\\prec j$ --- правильный порядок на парах $(i,j) \\in \\{1,\\dots,\\ell\\}^2$\n",
    "\n",
    "\n",
    "**Задача:**\n",
    "\n",
    "построить ранжирующую функцию $a\\colon X\\to\\mathbb{R}$ такую, что:     $\n",
    "i\\prec j \\;\\;\\Rightarrow\\;\\; a(x_i) < a(x_j)$\n"
   ]
  },
  {
   "cell_type": "markdown",
   "metadata": {},
   "source": [
    "# Функционалы качества ранжирвания"
   ]
  },
  {
   "cell_type": "markdown",
   "metadata": {},
   "source": [
    " **Доля инверсий** порядка среди первых $n$ документов:\n",
    "$$\n",
    " DP_n(q) = \\frac2{n(n-1)}\\sum_{i<j}^n\\Bigl[y(q,d_q^{(i)}) < y(q,d_q^{(j)})\\Bigr].\n",
    "$$"
   ]
  },
  {
   "cell_type": "markdown",
   "metadata": {},
   "source": [
    "**Коэффициент корреляции Кенделла** (http://en.wikipedia.org/wiki/Kendall_tau_rank_correlation_coefficient)\n",
    "\n",
    "$$\\tau=\\frac{P - Q}{P + Q},$$\n",
    "\n",
    "где:\n",
    "\n",
    "$P$ --- количество пар, для которых взаимный порядок совпадает (для двух заданных ранжирований),\n",
    "\n",
    "$Q$ --- количество пар, для которых он не совпадает."
   ]
  },
  {
   "cell_type": "markdown",
   "metadata": {},
   "source": [
    "    Доля инверсий связана с коэффициентом ранговой корреляции Кенделла следующим образом:\n",
    "$$\n",
    "        \\tau(a,y) = 1-2 \\cdot DP_n(q).\n",
    "$$"
   ]
  },
  {
   "cell_type": "markdown",
   "metadata": {},
   "source": [
    "   Обозначим:\n",
    "   \n",
    "$y(q,d)$ -- релевантность,\n",
    "\n",
    "$a(q,d)$ -- искомая функция ранжирования,\n",
    "\n",
    "$d_q^{(i)}$ -- $i$-й документ по убыванию $a(q,d)$.\n",
    "\n",
    "**Дисконтированная (взвешенная) сумма выигрышей}:**\n",
    "\n",
    "$$\n",
    "        DCG_n(q) = \\sum_{i=1}^n\n",
    "            \\underbrace{G_q(d_q^{(i)})}_{\\text{gain}}\n",
    "            \\;\\cdot\n",
    "            \\underbrace{D(i)}_{\\text{discount}}\n",
    "$$\n",
    "\n",
    "где:\n",
    "\n",
    "$G_q(d) = (2^{y(q,d)}-1)$ -- больший вес релевантным документам\n",
    "    \n",
    "$D(i) = 1/\\log_2(i+1)$ -- больший вес вначале выдачи\n",
    "\n",
    "**Нормированная дисконтированная сумма выигрышей}:**\n",
    "\n",
    "$$\n",
    "        NDCG_n(q) = \\frac{DCG_n(q)}{\\max DCG_n(q)}\n",
    "$$\n",
    "\n",
    "$\\max DCG_n(q)$ -- это $DCG_n(q)$ при идеальном ранжировании"
   ]
  },
  {
   "cell_type": "markdown",
   "metadata": {},
   "source": [
    "# Построение признаков"
   ]
  },
  {
   "cell_type": "markdown",
   "metadata": {},
   "source": [
    "### TF-IDF - классический текстовый признак\n",
    "\n",
    "\n",
    "TF-IDF$(q,d)$ - мера релевантности документа $d$ запросу $q$\n",
    "\n",
    "$n_{dw}$ (term frequency) - число вхождений слова $w$ в текст $d$;\n",
    "\n",
    "$N_{w}$ (document frequency) - число документов, содержащих~$w$;\n",
    "\n",
    "$N$ - число документов в коллекции $D$;\n",
    "\n",
    "\n",
    "$N_{w}/N$ - оценка вероятности встретить слово $w$ в документе;\n",
    "\n",
    "$(N_{w}/N)^{n_{dw}}$ - оценка вероятности встретить его $n_{dw}$ раз;\n",
    "\n",
    "$P(q,d) = \\prod\\limits_{w\\in q} (N_{w}/N)^{n_{dw}}$ -\n",
    "оценка вероятности встретить в~документе $d$ слова запроса $q=\\{w_1,\\dots,w_k\\}$ **чисто случайно**;\n",
    "\n",
    "Оценка релевантности запроса $q$ документу $d$:\n",
    "\n",
    "$$ -\\log P(q,d) = \\sum_{w\\in q}\n",
    "        \\underbrace{n_{dw}\\mathstrut}_{\\text{TF}(w,d)}\n",
    "        \\underbrace{\\log (N/N_{w})}_{\\text{IDF}(w)}\n",
    "        \\;\\; \\to \\;\\; \\max. $$\n",
    "\n",
    "TF$(w,d) = n_{dw}$ - term frequency;\n",
    "\n",
    "IDF$(w)=\\log (N/N_{w})$ - inverted document frequency."
   ]
  },
  {
   "cell_type": "markdown",
   "metadata": {},
   "source": [
    "### PageRank - классический ссылочный признак\n",
    "\n",
    "Документ $d$ тем важнее,\n",
    "- чем больше других документов $c$ ссылаются на $d$,\n",
    "- чем важнее документы $c$, ссылающиеся на $d$,\n",
    "- чем меньше других ссылок имеют эти документы $c$.\n",
    "\n",
    "    \n",
    "Вероятность попасть на страницу $d$, если кликать случайно:\n",
    "    \n",
    "$$PR(d) = \\frac{1-\\delta}N + \\delta\\! \\sum_{c\\in D^{in}_d} \\frac{PR(c)}{|D^{out}_c|},$$\n",
    "    \n",
    "    \n",
    "$D^{in}_d \\subset D$ - множество документов, ссылающихся на $d$,\n",
    "\n",
    "$D^{out}_c \\subset D$ - множество документов, на которые ссылается $c$,\n",
    "\n",
    "$\\delta = 0.85$ - вероятность продолжать клики (damping factor),\n",
    "\n",
    "$N$ - число документов в коллекции $D$.\n",
    "\n",
    "Sergey Brin, Lawrence Page.\n",
    "The Anatomy of a Large-Scale Hypertextual Web Search Engine. 1998.\n",
    "\n",
    "** Упражнение:** Посчитать PageRank для небольшого графа."
   ]
  },
  {
   "cell_type": "markdown",
   "metadata": {},
   "source": [
    "Demonstrates the use of a short Python implementation of the PageRank algorithm on the link structure contained in the graph on the [PageRank Wikipedia](http://en.wikipedia.org/wiki/PageRank) page:"
   ]
  },
  {
   "cell_type": "code",
   "execution_count": 1,
   "metadata": {},
   "outputs": [
    {
     "data": {
      "text/html": [
       "<img src=\"http://upload.wikimedia.org/wikipedia/commons/f/fb/PageRanks-Example.svg\"/>"
      ],
      "text/plain": [
       "<IPython.core.display.Image object>"
      ]
     },
     "execution_count": 1,
     "metadata": {},
     "output_type": "execute_result"
    }
   ],
   "source": [
    "from IPython.display import Image\n",
    "Image(url='http://upload.wikimedia.org/wikipedia/commons/f/fb/PageRanks-Example.svg')"
   ]
  },
  {
   "cell_type": "code",
   "execution_count": 2,
   "metadata": {},
   "outputs": [],
   "source": [
    "import numpy as np"
   ]
  },
  {
   "cell_type": "markdown",
   "metadata": {},
   "source": [
    "Запишем связи между вершинами графа в виде матрицы `M_counts`."
   ]
  },
  {
   "cell_type": "code",
   "execution_count": 3,
   "metadata": {},
   "outputs": [
    {
     "name": "stdout",
     "output_type": "stream",
     "text": [
      "[[1. 0. 0. 1. 0. 0. 0. 0. 0. 0. 0.]\n",
      " [1. 0. 1. 1. 1. 1. 1. 1. 1. 0. 0.]\n",
      " [1. 1. 0. 0. 0. 0. 0. 0. 0. 0. 0.]\n",
      " [1. 0. 0. 0. 1. 0. 0. 0. 0. 0. 0.]\n",
      " [1. 0. 0. 0. 0. 1. 1. 1. 1. 1. 1.]\n",
      " [1. 0. 0. 0. 1. 0. 0. 0. 0. 0. 0.]\n",
      " [1. 0. 0. 0. 0. 0. 0. 0. 0. 0. 0.]\n",
      " [1. 0. 0. 0. 0. 0. 0. 0. 0. 0. 0.]\n",
      " [1. 0. 0. 0. 0. 0. 0. 0. 0. 0. 0.]\n",
      " [1. 0. 0. 0. 0. 0. 0. 0. 0. 0. 0.]\n",
      " [1. 0. 0. 0. 0. 0. 0. 0. 0. 0. 0.]]\n"
     ]
    }
   ],
   "source": [
    "n_pages = 11 # numbering pages A through K as 0 to 10\n",
    "M_counts = np.zeros((n_pages, n_pages)) # will hold the number of link counts (assumed 0 or 1)\n",
    "# columns = starting page, row = destination page, ie M_ij = whether or not there is a link from j to i\n",
    "\n",
    "M_counts[:,0] = 1 # page 0 (A in the graphic) is a sink because it has no outgoing links at all; \n",
    "# however, M cannot contain an all-zero column, so do as if A was linking to all other pages (ie put 1's everywhere)\n",
    "M_counts[2,1] = 1 # B->C\n",
    "M_counts[1,2] = 1 # C->B\n",
    "M_counts[0,3] = 1 # D->A\n",
    "M_counts[1,3] = 1 # D->B\n",
    "M_counts[1,4] = 1 # E->B\n",
    "M_counts[3,4] = 1 # E->D\n",
    "M_counts[5,4] = 1 # E->F\n",
    "M_counts[1,5] = 1 # F->B\n",
    "M_counts[4,5] = 1 # F->E\n",
    "M_counts[1,6] = 1 # G,H,I->B,E\n",
    "M_counts[4,6] = 1\n",
    "M_counts[1,7] = 1\n",
    "M_counts[4,7] = 1\n",
    "M_counts[1,8] = 1\n",
    "M_counts[4,8] = 1\n",
    "M_counts[4,9] = 1 # J,K->E\n",
    "M_counts[4,10] = 1\n",
    "print(M_counts)"
   ]
  },
  {
   "cell_type": "markdown",
   "metadata": {},
   "source": [
    "Отнормируем столбцы матрицы `M_counts`"
   ]
  },
  {
   "cell_type": "code",
   "execution_count": 6,
   "metadata": {},
   "outputs": [
    {
     "name": "stdout",
     "output_type": "stream",
     "text": [
      "[[ 0.091  0.     0.     0.5    0.     0.     0.     0.     0.     0.     0.   ]\n",
      " [ 0.091  0.     1.     0.5    0.333  0.5    0.5    0.5    0.5    0.     0.   ]\n",
      " [ 0.091  1.     0.     0.     0.     0.     0.     0.     0.     0.     0.   ]\n",
      " [ 0.091  0.     0.     0.     0.333  0.     0.     0.     0.     0.     0.   ]\n",
      " [ 0.091  0.     0.     0.     0.     0.5    0.5    0.5    0.5    1.     1.   ]\n",
      " [ 0.091  0.     0.     0.     0.333  0.     0.     0.     0.     0.     0.   ]\n",
      " [ 0.091  0.     0.     0.     0.     0.     0.     0.     0.     0.     0.   ]\n",
      " [ 0.091  0.     0.     0.     0.     0.     0.     0.     0.     0.     0.   ]\n",
      " [ 0.091  0.     0.     0.     0.     0.     0.     0.     0.     0.     0.   ]\n",
      " [ 0.091  0.     0.     0.     0.     0.     0.     0.     0.     0.     0.   ]\n",
      " [ 0.091  0.     0.     0.     0.     0.     0.     0.     0.     0.     0.   ]]\n"
     ]
    }
   ],
   "source": [
    "M = np.empty((n_pages, n_pages))\n",
    "for j in range(n_pages):\n",
    "    M[:,j] = M_counts[:,j] / M_counts[:,j].sum()\n",
    "np.set_printoptions(precision=3)\n",
    "print(M)"
   ]
  },
  {
   "cell_type": "markdown",
   "metadata": {},
   "source": [
    "Проверим, что матрица M удовлетворяет всем условиям:"
   ]
  },
  {
   "cell_type": "code",
   "execution_count": 5,
   "metadata": {},
   "outputs": [],
   "source": [
    "import numpy\n",
    "def check_M(M):\n",
    "    \"\"\"\n",
    "    check that M has the right format to be used by pagerank function\n",
    "    \"\"\"\n",
    "    n_pages = M.shape[0] # n_pages is the number of rows of M\n",
    "    np.testing.assert_equal(M.shape[0], M.shape[1], err_msg = 'M should be square')\n",
    "    np.testing.assert_array_almost_equal(M.sum(axis=0), np.ones((n_pages)), \n",
    "                                         err_msg = 'assert each column sums to one (M is assumed column-stochastic)')\n",
    "    for j in range(n_pages):\n",
    "        M_column = M[:,j]\n",
    "        n_nonzero = np.count_nonzero(M[:,j])\n",
    "        np.testing.assert_array_almost_equal(M_column[M_column.nonzero()], np.ones((n_nonzero)) / n_nonzero,\n",
    "                                             err_msg = 'in column %g, all non-zero entries should be equal (and equal to 1 divided by their number)' % j)\n",
    "\n",
    "check_M(M) # will produce error if M does not have the right format"
   ]
  },
  {
   "cell_type": "markdown",
   "metadata": {},
   "source": [
    "Посчитаем `pagerank` итерационо:"
   ]
  },
  {
   "cell_type": "code",
   "execution_count": 6,
   "metadata": {},
   "outputs": [],
   "source": [
    "import numpy as np\n",
    "def pagerank(M, d=0.85, square_error=1e-6):\n",
    "    \"\"\"\n",
    "    M : the adjacency matrix of the pages. It is assumed to be column-stochastic (ie column sum to 1); all links have equal weight.\n",
    "    A page with no outgoing links (sink) is represented as a page with outgoing links to each other page (ie restart page).\n",
    "    d: damping factor\n",
    "    square_error : the algorithm iterates until the difference between two successive PageRank vectors v is less than this (in squared norm)\n",
    "    returns the PageRanks of all pages\n",
    "    \"\"\"\n",
    "    n_pages = M.shape[0] # n_pages is the number of rows of M\n",
    "    v = np.random.rand(n_pages) # initialize to random vector\n",
    "    v = v / v.sum() # make v sum to 1\n",
    "    last_v = np.ones((n_pages)) # will contain the previous v\n",
    "    M_hat = d * M + (1-d)/n_pages * np.ones((n_pages, n_pages)) # equation (***) in Wikipedia page\n",
    "    while np.square(v - last_v).sum() > square_error:\n",
    "        last_v = v\n",
    "        v = M_hat.dot(v) # at each iteration, progress one timestep\n",
    "    return v\n",
    "    "
   ]
  },
  {
   "cell_type": "code",
   "execution_count": 7,
   "metadata": {},
   "outputs": [
    {
     "data": {
      "text/plain": [
       "array([0.033, 0.385, 0.343, 0.039, 0.081, 0.039, 0.016, 0.016, 0.016,\n",
       "       0.016, 0.016])"
      ]
     },
     "execution_count": 7,
     "metadata": {},
     "output_type": "execute_result"
    }
   ],
   "source": [
    "pagerank(M)"
   ]
  },
  {
   "cell_type": "markdown",
   "metadata": {},
   "source": [
    "Данные числа примерно равны тем, что изображены на графе "
   ]
  },
  {
   "cell_type": "markdown",
   "metadata": {},
   "source": [
    "# Попарная трансформация"
   ]
  },
  {
   "cell_type": "markdown",
   "metadata": {},
   "source": [
    "Сгенерируем датасет:"
   ]
  },
  {
   "cell_type": "code",
   "execution_count": 98,
   "metadata": {},
   "outputs": [],
   "source": [
    "import itertools\n",
    "import numpy as np\n",
    "from scipy import stats, linalg\n",
    "from sklearn import svm, linear_model, cross_validation\n",
    "\n",
    "import matplotlib.pyplot as plt\n",
    "%matplotlib inline\n",
    "\n",
    "plt.rc('text', usetex=True)\n",
    "plt.rc('text.latex', unicode=True)\n",
    "plt.rc('text.latex', preamble='\\\\usepackage[utf8]{inputenc}')\n",
    "plt.rc('text.latex', preamble='\\\\usepackage[russian]{babel}')\n",
    "plt.rc('font', family='serif', size='16')"
   ]
  },
  {
   "cell_type": "markdown",
   "metadata": {},
   "source": [
    "Сгенерируем датасет из 60 объектов с двумя признаками, для которого оценка релевантности принимает три различных значения --- 0, 1 и 2.\n",
    "Датасет имеет два различных запроса, по каждому из которых есть 30 потенциально релеватных документа.\n",
    "На графике точки, соответствующие парам запрос-документ для первого запроса изображены круглыми точкам, для второго --- треугольными."
   ]
  },
  {
   "cell_type": "code",
   "execution_count": 104,
   "metadata": {},
   "outputs": [
    {
     "data": {
      "image/png": "[encoded data removed]",
      "text/plain": [
       "<Figure size 720x504 with 1 Axes>"
      ]
     },
     "metadata": {},
     "output_type": "display_data"
    }
   ],
   "source": [
    "np.random.seed(21)\n",
    "theta = np.deg2rad(60)\n",
    "w = np.array([np.sin(theta), np.cos(theta)])\n",
    "K = 20\n",
    "X = np.random.randn(K, 2)\n",
    "y = [0] * K\n",
    "for i in range(1, 3):\n",
    "    X = np.concatenate((X, np.random.randn(K, 2) + i * 4 * w))\n",
    "    y = np.concatenate((y, [i] * K))\n",
    "\n",
    "# slightly displace data corresponding to our second partition\n",
    "X[::2] -= np.array([3, 7]) \n",
    "blocks = np.array([0, 1] * int(X.shape[0] / 2))\n",
    "\n",
    "# split into train and test set\n",
    "cv = cross_validation.StratifiedShuffleSplit(y, test_size=.5, n_iter=1)\n",
    "train, test = next(iter(cv))\n",
    "X_train, y_train, b_train = X[train], y[train], blocks[train]\n",
    "X_test, y_test, b_test = X[test], y[test], blocks[test]\n",
    "\n",
    "# plot the result\n",
    "idx = (b_train == 0)\n",
    "plt.figure(figsize=(10, 7))\n",
    "plt.scatter(X_train[idx, 0], X_train[idx, 1], c=y_train[idx], marker='^', \n",
    "            cmap=plt.cm.cool, s=150, lw=(1 - y_train[idx]))\n",
    "plt.scatter(X_train[~idx, 0], X_train[~idx, 1], c=y_train[~idx], marker='o', \n",
    "            cmap=plt.cm.cool, s=150, lw=(1 - y_train[~idx]))\n",
    "plt.arrow(0, 0, 8 * w[0], 8 * w[1], fc='gray', ec='gray', \n",
    "          head_width=0.5, head_length=0.5)\n",
    "plt.arrow(-3, -8, 8 * w[0], 8 * w[1], fc='gray', ec='gray', \n",
    "          head_width=0.5, head_length=0.5)\n",
    "plt.axis('equal')\n",
    "plt.show()"
   ]
  },
  {
   "cell_type": "code",
   "execution_count": 105,
   "metadata": {},
   "outputs": [
    {
     "data": {
      "image/png": "[encoded data removed]",
      "text/plain": [
       "<Figure size 720x504 with 1 Axes>"
      ]
     },
     "metadata": {},
     "output_type": "display_data"
    }
   ],
   "source": [
    "np.random.seed(21)\n",
    "theta = np.deg2rad(60)\n",
    "w = np.array([np.sin(theta), np.cos(theta)])\n",
    "K = 20\n",
    "X = np.random.randn(K, 2)\n",
    "y = [0] * K\n",
    "for i in range(1, 3):\n",
    "    X = np.concatenate((X, np.random.randn(K, 2) + i * 4 * w))\n",
    "    y = np.concatenate((y, [i] * K))\n",
    "\n",
    "# slightly displace data corresponding to our second partition\n",
    "X[::2] -= np.array([3, 7]) \n",
    "blocks = np.array([0, 1] * int(X.shape[0] / 2))\n",
    "\n",
    "# split into train and test set\n",
    "cv = cross_validation.StratifiedShuffleSplit(y, test_size=.5, n_iter=1)\n",
    "train, test = next(iter(cv))\n",
    "X_train, y_train, b_train = X[train], y[train], blocks[train]\n",
    "X_test, y_test, b_test = X[test], y[test], blocks[test]\n",
    "\n",
    "# plot the result\n",
    "idx = (b_train == 0)\n",
    "plt.figure(figsize=(10, 7))\n",
    "plt.scatter(X_train[idx, 0], X_train[idx, 1], c=y_train[idx], marker='^', \n",
    "            cmap=plt.cm.cool, s=150, lw=(1 - y_train[idx]))\n",
    "plt.scatter(X_train[~idx, 0], X_train[~idx, 1], c=y_train[~idx], marker='o', \n",
    "            cmap=plt.cm.cool, s=150, lw=(1 - y_train[~idx]))\n",
    "plt.arrow(0, 0, 8 * w[0], 8 * w[1], fc='gray', ec='gray', \n",
    "          head_width=0.5, head_length=0.5)\n",
    "plt.arrow(-3, -8, 8 * w[0], 8 * w[1], fc='gray', ec='gray', \n",
    "          head_width=0.5, head_length=0.5)\n",
    "plt.axis('equal')\n",
    "plt.show()"
   ]
  },
  {
   "cell_type": "markdown",
   "metadata": {},
   "source": [
    "На графике четко видно, что для обоих запросов есть общий вектор $w$, такой что проекция на него дает правильное ранжирование.\n",
    "Однако, линейные модели считают, что все объекты лежат в некотором метрическом пространстве.\n",
    "Таким образом, при рассмотрении таких моделей мы будем получать результат явно не оптимальный."
   ]
  },
  {
   "cell_type": "code",
   "execution_count": 106,
   "metadata": {},
   "outputs": [
    {
     "data": {
      "image/png": "[encoded data removed]",
      "text/plain": [
       "<Figure size 720x504 with 1 Axes>"
      ]
     },
     "metadata": {},
     "output_type": "display_data"
    }
   ],
   "source": [
    "ridge = linear_model.Ridge(1.)\n",
    "ridge.fit(X_train, y_train)\n",
    "coef = ridge.coef_ / linalg.norm(ridge.coef_)\n",
    "\n",
    "plt.figure(figsize=(10, 7))\n",
    "plt.scatter(X_train[idx, 0], X_train[idx, 1], c=y_train[idx], marker='^', \n",
    "            cmap=plt.cm.cool, s=150, lw=(1 - y_train[idx]))\n",
    "plt.scatter(X_train[~idx, 0], X_train[~idx, 1], c=y_train[~idx], marker='o', \n",
    "            cmap=plt.cm.cool, s=150, lw=(1 - y_train[~idx]))\n",
    "plt.arrow(0, 0, 7 * coef[0], 7 * coef[1], fc='gray', ec='gray', \n",
    "          head_width=0.5, head_length=0.5)\n",
    "plt.text(2, 0, '$\\hat{w}$', fontsize=20)\n",
    "plt.axis('equal')\n",
    "plt.title('Estimation by Ridge regression')\n",
    "plt.show()"
   ]
  },
  {
   "cell_type": "markdown",
   "metadata": {},
   "source": [
    "Посчитаем коэффициент корреляции Кенделла на тесте для каждого запроса отдельно."
   ]
  },
  {
   "cell_type": "code",
   "execution_count": 107,
   "metadata": {},
   "outputs": [
    {
     "name": "stdout",
     "output_type": "stream",
     "text": [
      "Kendall correlation coefficient for query 0: 0.845\n",
      "Kendall correlation coefficient for query 1: 0.822\n"
     ]
    }
   ],
   "source": [
    "for i in range(2):\n",
    "    tau, _ = stats.kendalltau(ridge.predict(X_test[b_test == i]), y_test[b_test == i])\n",
    "    print('Kendall correlation coefficient for query %s: %.3f' % (i, tau))"
   ]
  },
  {
   "cell_type": "markdown",
   "metadata": {},
   "source": [
    "Как показано в (http://www.mendeley.com/research/support-vector-learning-ordinal-regression/), если мы будем рассматривать линейные функции для ранжирования, вместо задачи ранжирования можно рассматривать эквивалентную задачу двуклассовой классификации.\n",
    "Для этого мы создадим разности всех сравнимых элементов, то есть наши данные будут преобразованы в $(X'_k, Y'_k) = (X_i - X_j, sign(Y_i - Y_j))$ для пар, для которых можно определить порядок.\n",
    "\n",
    "Следующий график показывает этот преобразованный датасет, цвет точек отражает разницу в метках, и наша задача --- отделить положительные точки от отрицательных. Гиперплоскость $x^T w = 0$ разделяет эти классы."
   ]
  },
  {
   "cell_type": "code",
   "execution_count": 110,
   "metadata": {},
   "outputs": [
    {
     "data": {
      "image/png": "[encoded data removed]",
      "text/plain": [
       "<Figure size 720x504 with 1 Axes>"
      ]
     },
     "metadata": {},
     "output_type": "display_data"
    }
   ],
   "source": [
    "# form all pairwise combinations\n",
    "comb = itertools.combinations(range(X_train.shape[0]), 2)\n",
    "k = 0\n",
    "Xp, yp, diff = [], [], []\n",
    "\n",
    "for (i, j) in comb:\n",
    "    if y_train[i] == y_train[j] \\\n",
    "        or blocks[train][i] != blocks[train][j]:\n",
    "        # skip if same target or different group\n",
    "        continue\n",
    "        \n",
    "    Xp.append(X_train[i] - X_train[j])\n",
    "    diff.append(y_train[i] - y_train[j])\n",
    "    yp.append(np.sign(diff[-1]))\n",
    "    k += 1\n",
    "    \n",
    "Xp, yp, diff = map(np.asanyarray, (Xp, yp, diff))\n",
    "\n",
    "plt.figure(figsize=(10, 7))\n",
    "plt.scatter(Xp[:, 0], Xp[:, 1], c=diff, s=150, lw=(diff == -2), \n",
    "            marker='o', cmap=plt.cm.cool)\n",
    "x_space = np.linspace(-10, 10)\n",
    "plt.plot(x_space * w[1], - x_space * w[0], color='gray')\n",
    "plt.text(3, -4, '$\\{x^T w = 0\\}$', fontsize=17)\n",
    "plt.axis('equal')\n",
    "plt.show()"
   ]
  },
  {
   "cell_type": "markdown",
   "metadata": {},
   "source": [
    "Как мы видим на предыдущем графике, классы разделимы.\n",
    "Это не всегда будет так, но на нашей обучающей выборке нет инверсий порядка.\n",
    "\n",
    "Теперь мы можем обучить SVM на преобразованных данных.\n",
    "Эта модель называется RankSVM.\n",
    "Далее приведен график обучающей выборки вместе с оцененным коэффициентом $\\hat{w}$ с помощью RankSVM."
   ]
  },
  {
   "cell_type": "code",
   "execution_count": 111,
   "metadata": {},
   "outputs": [
    {
     "data": {
      "image/png": "[encoded data removed]",
      "text/plain": [
       "<Figure size 720x504 with 1 Axes>"
      ]
     },
     "metadata": {},
     "output_type": "display_data"
    }
   ],
   "source": [
    "clf = svm.SVC(kernel='linear', C=.1)\n",
    "clf.fit(Xp, yp)\n",
    "coef = clf.coef_.ravel() / linalg.norm(clf.coef_)\n",
    "\n",
    "plt.figure(figsize=(10, 7))\n",
    "plt.scatter(X_train[idx, 0], X_train[idx, 1], c=y_train[idx], \n",
    "            lw=(1 - y_train[idx]), marker='^', cmap=plt.cm.cool, s=150)\n",
    "plt.scatter(X_train[~idx, 0], X_train[~idx, 1], c=y_train[~idx], \n",
    "            lw=(1 - y_train[~idx]), marker='o', cmap=plt.cm.cool, s=150)\n",
    "plt.arrow(0, 0, 7 * coef[0], 7 * coef[1], fc='gray', ec='gray', \n",
    "          head_width=0.5, head_length=0.5)\n",
    "plt.arrow(-3, -8, 7 * coef[0], 7 * coef[1], fc='gray', ec='gray', \n",
    "          head_width=0.5, head_length=0.5)\n",
    "plt.text(1, .7, '$\\hat{w}$', fontsize=20)\n",
    "plt.text(-2.6, -7, '$\\hat{w}$', fontsize=20)\n",
    "plt.axis('equal')\n",
    "plt.show()"
   ]
  },
  {
   "cell_type": "markdown",
   "metadata": {},
   "source": [
    "Наконец, убедимся, что коэффициент корреляции Кенделла увеличивается при использовании RankSVM вместо линейной регрессии."
   ]
  },
  {
   "cell_type": "code",
   "execution_count": 112,
   "metadata": {
    "scrolled": true
   },
   "outputs": [
    {
     "name": "stdout",
     "output_type": "stream",
     "text": [
      "Kendall correlation coefficient for query 0: 0.845\n",
      "Kendall correlation coefficient for query 1: 0.842\n"
     ]
    }
   ],
   "source": [
    "for i in range(2):\n",
    "    tau, _ = stats.kendalltau(\n",
    "        np.dot(X_test[b_test == i], coef), y_test[b_test == i])\n",
    "    print('Kendall correlation coefficient for query %s: %.3f' % (i, tau))"
   ]
  },
  {
   "cell_type": "markdown",
   "metadata": {},
   "source": [
    "Эти значения действительно больше, чем значения (0.845, 0.822), полученные в случае линейной регрессии."
   ]
  },
  {
   "cell_type": "markdown",
   "metadata": {},
   "source": [
    "# RankLib (The Lemur Project)\n",
    "\n",
    "<img src=\"lemur-big-370.png\">\n",
    "\n",
    "RankLib --- мощная библиотека для обучения ранжированию. Написана на Java. Описание https://sourceforge.net/p/lemur/wiki/RankLib/\n",
    "\n",
    "Возьмем датасет с конкурса «Интернет-математика 2009»\n",
    "https://academy.yandex.ru/events/data_analysis/grant2009/\n",
    "\n",
    "Ниже определены некоторые вспомогательные функции."
   ]
  },
  {
   "cell_type": "code",
   "execution_count": 113,
   "metadata": {},
   "outputs": [],
   "source": [
    "def read_file(file_path, features_count):\n",
    "    ''' Считывает дата-файл по адресу file_path, в котором есть не более features_count признаков.\n",
    "    Возвращает список меток релевантности, id запросов и матрицу признаков'''\n",
    "    \n",
    "    relevs = []\n",
    "    qids = []\n",
    "    features = []\n",
    "    \n",
    "    with open(file_path) as data_file:\n",
    "        for line in data_file:\n",
    "            split_line = line.split(' ')\n",
    "            \n",
    "            # релевантность и id запроса\n",
    "            relevs.append(split_line[0])\n",
    "            qids.append(int(split_line[1].split(':')[1]))\n",
    "            \n",
    "            # признаки\n",
    "            object_features = np.zeros(features_count, dtype=float)\n",
    "            for feat in split_line[2:]:\n",
    "                index, value = map(float, feat.split(':'))\n",
    "                object_features[index] = value\n",
    "            \n",
    "            features.append(object_features)\n",
    "    \n",
    "    return relevs, qids, np.array(features)\n",
    "\n",
    "\n",
    "def write(features, relevs, qids, file_path, index_begin, index_end):\n",
    "    ''' Создает файл по адресу file_path, в который будут записаны релевантности relevs,\n",
    "    номера запросов qids и признаки features с номера index_begin по index_end. '''\n",
    "    \n",
    "    with open(file_path, 'w') as f:\n",
    "        for index_line in range(index_begin, index_end):\n",
    "            f.write('{} qid:{}'.format(relevs[index_line], qids[index_line]))\n",
    "            for i in range(features.shape[1]):\n",
    "                f.write(' {}:{}'.format(i + 1, features[index_line, i]))\n",
    "            f.write('\\n')\n",
    "            \n",
    "\n",
    "def split_to_train_valid_test(relevs, qids, features, \n",
    "                              train_path, test_path,\n",
    "                              train_size, test_size,\n",
    "                              valid_path=None, valid_size=None):\n",
    "    ''' Разбивает датасет на две или три части, и записывает их в файлы'''\n",
    "\n",
    "    num_docs = len(qids)\n",
    "    i_0 = 0\n",
    "    \n",
    "    qids = np.array(qids)\n",
    "    is_new_query = qids[:-1] != qids[1:]  # True в тех позициях, в которых начинается новый запрос\n",
    "    new_query_positions = np.arange(num_docs - 1)[is_new_query]  # Позиции, в которых начинается новый запрос\n",
    "\n",
    "    # Ищем позицию, на которой заканчивается train\n",
    "    allow_positions = new_query_positions > (train_size * num_docs)\n",
    "    i_1 = new_query_positions[allow_positions][0] if np.sum(allow_positions) > 0 else num_docs\n",
    "\n",
    "    # Ищем позицию, на которой заканчивается test\n",
    "    allow_positions = new_query_positions > ((train_size + test_size) * num_docs)\n",
    "    i_2 = new_query_positions[allow_positions][0] if np.sum(allow_positions) > 0 else num_docs\n",
    "\n",
    "    write(features, relevs, qids, train_path, i_0, i_1)\n",
    "    write(features, relevs, qids, test_path, i_1, i_2)\n",
    "\n",
    "    if valid_path is not None:\n",
    "        # Ищем позицию, на которой заканчивается valid\n",
    "        allow_positions = new_query_positions > ((train_size + test_size + valid_size) * num_docs)\n",
    "        i_3 = new_query_positions[allow_positions][0] if np.sum(allow_positions) > 0 else num_docs\n",
    "\n",
    "        write(features, relevs, qids, valid_path, i_2, i_3)"
   ]
  },
  {
   "cell_type": "markdown",
   "metadata": {},
   "source": [
    "Исходный датасет разбивается на train, valid и test. Результат этого разбиения лежит в папке data."
   ]
  },
  {
   "cell_type": "markdown",
   "metadata": {},
   "source": [
    "Разобьем его на три части и запишем каждую в файл. Основная проблема --- для RankLib у объекта должны быть указаны все признаки, даже если они равны нулю. Поэтому приходится их искусственно дописывать."
   ]
  },
  {
   "cell_type": "markdown",
   "metadata": {},
   "source": [
    "Запустим LambdaMART (бустинг на деревьях, модель 6) на 100 деревьях с 5 листами в каждом. Будем использовать метрику $NDCG_{10}$. Сохраняем саму модель в ./model/LambdaMART_100_5.txt, а вывод обучения в ./model/log_LambdaMART_100_5.txt"
   ]
  },
  {
   "cell_type": "code",
   "execution_count": 114,
   "metadata": {
    "scrolled": true
   },
   "outputs": [
    {
     "name": "stdout",
     "output_type": "stream",
     "text": [
      "No Java runtime present, requesting install.\n",
      "CPU times: user 4.82 ms, sys: 10.6 ms, total: 15.4 ms\n",
      "Wall time: 155 ms\n"
     ]
    }
   ],
   "source": [
    "%%time\n",
    "! java -jar RankLib-2.1-patched.jar -train ./data/train.txt -test ./data/test.txt -validate ./data/valid.txt -ranker 6 -tree 100 -leaf 5 -metric2t NDCG@10 -save ./model/LambdaMART_100_5.txt > ./model/log_LambdaMART_100_5.txt"
   ]
  },
  {
   "cell_type": "markdown",
   "metadata": {},
   "source": [
    "1000 деревьев, 10 листев в каждом"
   ]
  },
  {
   "cell_type": "code",
   "execution_count": 12,
   "metadata": {},
   "outputs": [
    {
     "name": "stdout",
     "output_type": "stream",
     "text": [
      "CPU times: user 225 ms, sys: 28.2 ms, total: 253 ms\n",
      "Wall time: 27.8 s\n"
     ]
    }
   ],
   "source": [
    "%%time\n",
    "! java -jar RankLib-2.1-patched.jar -train ./data/train.txt -test ./data/test.txt -validate ./data/valid.txt -ranker 6 -metric2t NDCG@10 -save ./model/LambdaMART_1000_10.txt > ./model/log_LambdaMART_1000_10.txt"
   ]
  },
  {
   "cell_type": "markdown",
   "metadata": {},
   "source": [
    "Тоже самое, но без валидационной выборки. То есть он будет строить все 1000 деревьев"
   ]
  },
  {
   "cell_type": "code",
   "execution_count": 13,
   "metadata": {},
   "outputs": [
    {
     "name": "stdout",
     "output_type": "stream",
     "text": [
      "CPU times: user 755 ms, sys: 100 ms, total: 855 ms\n",
      "Wall time: 1min 40s\n"
     ]
    }
   ],
   "source": [
    "%%time\n",
    "! java -jar RankLib-2.1-patched.jar -train ./data/train.txt -test ./data/test.txt -ranker 6 -metric2t NDCG@10 -save ./model/LambdaMART_1000_10_novalid.txt > ./model/log_LambdaMART_1000_10_novalid.txt"
   ]
  },
  {
   "cell_type": "markdown",
   "metadata": {},
   "source": [
    "Запустим RankNet (нейронная сеть) с различными параметрами"
   ]
  },
  {
   "cell_type": "code",
   "execution_count": 14,
   "metadata": {},
   "outputs": [
    {
     "name": "stdout",
     "output_type": "stream",
     "text": [
      "CPU times: user 314 ms, sys: 16.6 ms, total: 330 ms\n",
      "Wall time: 44.8 s\n"
     ]
    }
   ],
   "source": [
    "%%time\n",
    "! java -jar RankLib-2.1-patched.jar -train ./data/train.txt -test ./data/test.txt -validate ./data/valid.txt -ranker 1 -metric2t NDCG@10 -save ./model/RankNet.txt > ./model/log_RankNet.txt"
   ]
  },
  {
   "cell_type": "code",
   "execution_count": 15,
   "metadata": {
    "scrolled": true
   },
   "outputs": [
    {
     "name": "stdout",
     "output_type": "stream",
     "text": [
      "CPU times: user 1.13 s, sys: 93 ms, total: 1.22 s\n",
      "Wall time: 2min 46s\n"
     ]
    }
   ],
   "source": [
    "%%time\n",
    "! java -jar RankLib-2.1-patched.jar -train ./data/train.txt -test ./data/test.txt -validate ./data/valid.txt -ranker 1 -layer 3 -node 30 -metric2t NDCG@10 -save ./model/RankNet_3_30.txt > ./model/log_RankNet_3_30.txt"
   ]
  },
  {
   "cell_type": "markdown",
   "metadata": {},
   "source": [
    "# \"Игрушечный\" поисковый движок"
   ]
  },
  {
   "cell_type": "markdown",
   "metadata": {},
   "source": [
    "Есть два основный этапа в разработке поискового движка: построение индекса, а затем, используя индекс, ответить на запрос. А затем мы можем добавить результат рейтинга (TF-IDF, PageRank и т.д.), классификацию запрос/документ, и, возможно, немного машинного обучения, чтобы отслеживать последние запросы пользователя и на основе этого выбрать результаты для повышения производительности поисковой системы."
   ]
  },
  {
   "cell_type": "markdown",
   "metadata": {},
   "source": [
    "## Построение индекса"
   ]
  },
  {
   "cell_type": "markdown",
   "metadata": {},
   "source": [
    "Таким образом, первый шаг в построении текстового поискового движка — это сборка перевёрнутого индекса. \n",
    "**Перевёрнутый индекс** — это структура данных, которая сопоставляет маркеры с документами, в который они появляются. В данном контексте мы можем рассматривать маркер просто как слова, таким образом перевёрнутый индекс, в своей основе, это что-то, что берёт слово и возвращает нам список документов, где оно встречается.\n",
    "\n",
    "Необходимо проанализировать и отметить (маркировать, разделив на слова) множество документов. Мы сделаем это следующим образом: для каждого документа, который мы хотим добавить в наш индекс, мы удалим всю пунктуацию и разделить его на пробелы, создадим временную хеш-таблицу, которая соотносит имена документов к списку маркеров.  Вот код, который сделает первоначальную фильтрацию текста:"
   ]
  },
  {
   "cell_type": "code",
   "execution_count": 17,
   "metadata": {
    "collapsed": true
   },
   "outputs": [],
   "source": [
    "def process_files(self):\n",
    "    file_to_terms = {}\n",
    "    for file in self.filenames:\n",
    "        pattern = re.compile('[\\W_]+')\n",
    "        file_to_terms[file] = open(file, 'r').read().lower();\n",
    "        file_to_terms[file] = pattern.sub(' ',file_to_terms[file])\n",
    "        re.sub(r'[\\W_]+','', file_to_terms[file])\n",
    "        file_to_terms[file] = file_to_terms[file].split()\n",
    "    return file_to_terms"
   ]
  },
  {
   "cell_type": "markdown",
   "metadata": {},
   "source": [
    "Перевёрнутый индекс будет картой слова до имени документа, но мы так же хотим поддерживать запросы с фразами: запросы не только для слов, но и для слов в определённой последовательности. Для этого мы должны знать где в документе появляется каждое слово, таким образом мы сможем проверить порядок слов. Я индекс каждого слова в маркированном списке на документ в качестве позиции слова в этом документе, поэтому наш конечный перевернутый индекс будет выглядеть следующим образом:\n",
    "\n",
    "**{word: {documentID: [pos1, pos2, ...]}, ...}, ...}**\n",
    "\n",
    "вместо такого:\n",
    "\n",
    "**{word: [documentID, ...], ...}**\n"
   ]
  },
  {
   "cell_type": "markdown",
   "metadata": {},
   "source": [
    "Таким образом, наша первая задача состоит в том, чтобы создать сопоставление слов для своих позиций для каждого документа, а затем объединить их, чтобы создать наш полный перевёрнутый индекс. Это выглядит как:"
   ]
  },
  {
   "cell_type": "code",
   "execution_count": 18,
   "metadata": {
    "collapsed": true
   },
   "outputs": [],
   "source": [
    "#input = [word1, word2, ...]\n",
    "#output = {word1: [pos1, pos2], word2: [pos2, pos434], ...}\n",
    "def index_one_file(termlist):\n",
    "    fileIndex = {}\n",
    "    for index, word in enumerate(termlist):\n",
    "        if word in fileIndex.keys():\n",
    "            fileIndex[word].append(index)\n",
    "        else:\n",
    "            fileIndex[word] = [index]\n",
    "    return fileIndex"
   ]
  },
  {
   "cell_type": "markdown",
   "metadata": {},
   "source": [
    "Код принимает список терминов в документе, разделённые пробелом (в котором слова находятся в их первоначальном порядке), и добавляет каждое в хеш-таблицу, где значением является список позиций этого слова в документе. Мы строим этот список многократно, как мы идём по списку, до тех пор, пока не пройдём все слова, оставив нас с таблицей, снабжённую ключами по строкам и размеченными до списка позиций этих строк.\n",
    "\n",
    "Теперь нам нужно объединить эти хеш-таблицы. \n",
    "\n",
    "Промежуточный формат индекса:\n",
    "\n",
    "**{documentID: {word: [pos1, pos2, ...]}, ...}**\n",
    "\n",
    "который преобразуется к окончательному формату:"
   ]
  },
  {
   "cell_type": "code",
   "execution_count": 19,
   "metadata": {
    "collapsed": true
   },
   "outputs": [],
   "source": [
    "#input = {filename: [word1, word2, ...], ...}\n",
    "#res = {filename: {word: [pos1, pos2, ...]}, ...}\n",
    "def make_indices(termlists):\n",
    "    total = {}\n",
    "    for filename in termlists.keys():\n",
    "        total[filename] = index_one_file(termlists[filename])\n",
    "    return total"
   ]
  },
  {
   "cell_type": "markdown",
   "metadata": {},
   "source": [
    "данный код принимает результаты функции file_to_terms, и создает новую хеш-таблицу помеченных ключом по имени файла и со значениями, которые являются результатом предыдущей функции, создавая вложенную хеш-таблицу.\n",
    "\n",
    "Строим перевернутый индекс:"
   ]
  },
  {
   "cell_type": "code",
   "execution_count": 20,
   "metadata": {
    "collapsed": true
   },
   "outputs": [],
   "source": [
    "#input = {filename: {word: [pos1, pos2, ...], ... }}\n",
    "#res = {word: {filename: [pos1, pos2]}, ...}, ...}\n",
    "def fullIndex(regdex):\n",
    "    total_index = {}\n",
    "    for filename in regdex.keys():\n",
    "        for word in regdex[filename].keys():\n",
    "            if word in total_index.keys():\n",
    "                if filename in total_index[word].keys():\n",
    "                    total_index[word][filename].extend(regdex[filename][word][:])\n",
    "                else:\n",
    "                    total_index[word][filename] = regdex[filename][word]\n",
    "            else:\n",
    "                total_index[word] = {filename: regdex[filename][word]}\n",
    "    return total_index"
   ]
  },
  {
   "cell_type": "markdown",
   "metadata": {},
   "source": [
    "Теперь мы можем ввести слово, и должны получить перечень документов, в которых оно встречается."
   ]
  },
  {
   "cell_type": "markdown",
   "metadata": {},
   "source": [
    "## Выполнение запросов к индексу"
   ]
  },
  {
   "cell_type": "markdown",
   "metadata": {},
   "source": [
    "Итак, есть два типа запросов, которые мы хотим обрабатывать: стандартные запросы, где по крайней мере одно из слов в запросе появляется в документе и запросы с фразой, где все слова запроса встречаются в документе в том же порядке."
   ]
  },
  {
   "cell_type": "markdown",
   "metadata": {},
   "source": [
    "Мы собираемся реализовать стандартные запросы в первую очередь. Простой способ реализовать их — разбить запрос на слова (маркеры, как описано выше), получить список за каждое слово, документы в которых они встречаются, а затем объединить все эти списки. Вот как мы выполним запрос для одного слова:"
   ]
  },
  {
   "cell_type": "code",
   "execution_count": 21,
   "metadata": {
    "collapsed": true
   },
   "outputs": [],
   "source": [
    "def one_word_query(self, word):\n",
    "    pattern = re.compile('[\\W_]+')\n",
    "    word = pattern.sub(' ',word)\n",
    "    if word in self.invertedIndex.keys():\n",
    "        return [filename for filename in self.invertedIndex[word].keys()]\n",
    "    else:\n",
    "        return []"
   ]
  },
  {
   "cell_type": "markdown",
   "metadata": {},
   "source": [
    "Теперь стандартный запрос является очень простым расширением. Мы просто агрегируем и объединяем списки как показано здесь:"
   ]
  },
  {
   "cell_type": "code",
   "execution_count": 22,
   "metadata": {
    "collapsed": true
   },
   "outputs": [],
   "source": [
    "def free_text_query(self, string):\n",
    "    pattern = re.compile('[\\W_]+')\n",
    "    string = pattern.sub(' ',string)\n",
    "    result = []\n",
    "    for word in string.split():\n",
    "        result += self.one_word_query(word)\n",
    "    return list(set(result))"
   ]
  },
  {
   "cell_type": "markdown",
   "metadata": {},
   "source": [
    "Последним типом запросов является запрос с фразой, который немного сложнее, так как мы должны гарантировать правильный порядок слов в документах."
   ]
  },
  {
   "cell_type": "code",
   "execution_count": 23,
   "metadata": {
    "collapsed": true
   },
   "outputs": [],
   "source": [
    "def phrase_query(self, string):\n",
    "    pattern = re.compile('[\\W_]+')\n",
    "    string = pattern.sub(' ',string)\n",
    "    listOfLists, result = [],[]\n",
    "    for word in string.split():\n",
    "        listOfLists.append(self.one_word_query(word))\n",
    "    setted = set(listOfLists[0]).intersection(*listOfLists)\n",
    "    for filename in setted:\n",
    "        temp = []\n",
    "        for word in string.split():\n",
    "            temp.append(self.invertedIndex[word][filename][:])\n",
    "        for i in range(len(temp)):\n",
    "            for ind in range(len(temp[i])):\n",
    "                temp[i][ind] -= i\n",
    "        if set(temp[0]).intersection(*temp):\n",
    "            result.append(filename)\n",
    "    return self.rankResults(result, string)"
   ]
  },
  {
   "cell_type": "markdown",
   "metadata": {},
   "source": [
    "И так, мы вновь сначала обрабатываем текст входного запроса. Затем мы запускаем одно слово из запроса для каждого слова на входе, и добавляем каждый из этих списков результатов в наш общий список. Затем мы создаём множество с именем 'setted', который принимает пересечение первого списка со всеми другими списками (по существу, принимая пересечение всех списков), и оставляет нас с промежуточным результатом: множеством всех документов, содержащих все слова запроса."
   ]
  },
  {
   "cell_type": "markdown",
   "metadata": {},
   "source": [
    "## Ранжирование"
   ]
  },
  {
   "cell_type": "markdown",
   "metadata": {
    "collapsed": true
   },
   "source": [
    " Заключительным шагом в построении поискового движка является создание системы для ранжирования документов по их релевантности к запросу. Это наиболее сложная часть, поскольку она не имеет прямого технического решения. "
   ]
  },
  {
   "cell_type": "markdown",
   "metadata": {
    "collapsed": true
   },
   "source": [
    "В версии, представленной в папке Text-Search-Engine реализовано TF-IDF ранжирование. Рекомендуется ознакомиться с финальной версией движка."
   ]
  },
  {
   "cell_type": "markdown",
   "metadata": {
    "collapsed": true
   },
   "source": [
    "\n",
    "** Контрольные вопросы **\n",
    "\n",
    "1) Чем отличаются поточечный и попарный подходы к ранжированию? Какой лучше работает и почему?\n",
    "\n",
    "2) Чем отличается RankSVM от обычного SVM?\n",
    "\n",
    "3) Что такое коэффициент корреляции Кенделла? Как его использовать для оценки качества модели?\n",
    "\n",
    "4) Какие алгоритмы ранжирования реализованные в RankLib проекта Lemur мы сегодня рассматривали? \n",
    "\n",
    "5) Какие этапы построения простейшего поискового движка можно выделить? В чем их сложность?"
   ]
  },
  {
   "cell_type": "markdown",
   "metadata": {},
   "source": [
    "## Полезные ссылки\n",
    "\n",
    "[1] C.J.C. Burges, T. Shaked, E. Renshaw, A. Lazier, M. Deeds, N. Hamilton and G. Hullender. Learning to rank using gradient descent. In Proc. of ICML, pages 89-96, 2005.\n",
    "\n",
    "[2] Y. Freund, R. Iyer, R. Schapire, and Y. Singer. An efficient boosting algorithm for combining preferences. The Journal of Machine Learning Research, 4: 933-969, 2003.\n",
    "\n",
    "[3] J. Xu and H. Li. AdaRank: a boosting algorithm for information retrieval. In Proc. of SIGIR, pages 391-398, 2007.\n",
    "\n",
    "[4] D. Metzler and W.B. Croft. Linear feature-based models for information retrieval. Information Retrieval, 10(3): 257-274, 2007.\n",
    "\n",
    "[5] Q. Wu, C.J.C. Burges, K. Svore and J. Gao. Adapting Boosting for Information Retrieval Measures. Journal of Information Retrieval, 2007.\n",
    "\n",
    "[6] J.H. Friedman. Greedy function approximation: A gradient boosting machine. Technical Report, IMS Reitz Lecture, Stanford, 1999; see also Annals of Statistics, 2001.\n",
    "\n",
    "[7] Z. Cao, T. Qin, T.Y. Liu, M. Tsai and H. Li. Learning to Rank: From Pairwise Approach to Listwise Approach. ICML 2007. \n",
    "\n",
    "[8] L. Breiman. Random Forests. Machine Learning 45 (1): 5–32, 2001."
   ]
  }
 ],
 "metadata": {
  "anaconda-cloud": {},
  "kernelspec": {
   "display_name": "Python 3",
   "language": "python",
   "name": "python3"
  },
  "language_info": {
   "codemirror_mode": {
    "name": "ipython",
    "version": 3
   },
   "file_extension": ".py",
   "mimetype": "text/x-python",
   "name": "python",
   "nbconvert_exporter": "python",
   "pygments_lexer": "ipython3",
   "version": "3.6.5"
  }
 },
 "nbformat": 4,
 "nbformat_minor": 1
}
