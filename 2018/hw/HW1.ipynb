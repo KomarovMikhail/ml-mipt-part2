{
 "cells": [
  {
   "cell_type": "markdown",
   "metadata": {},
   "source": [
    "<span style=\"font-size: 14pt\">MIPT, Applied ML, Autumn 2018</span> \n",
    "\n",
    "<span style=\"font-size: 16pt\"> HW#1 </span>\n",
    "\n",
    "<span style=\"color:red; font-size: 16pt\"> deadline: 22.09.2018 23:59 </span>\n",
    "\n",
    "<span style=\"color:blue; font-size: 12pt\">Alexey Romanenko </span>,\n",
    "<span style=\"color:blue; font-size: 12pt; font-family: 'Verdana'\">alexromsput@gmail.com</span>"
   ]
  },
  {
   "cell_type": "markdown",
   "metadata": {},
   "source": [
    "<h1 align=\"center\">Organization Info</h1> "
   ]
  },
  {
   "cell_type": "markdown",
   "metadata": {},
   "source": [
    "**Дополнительный материал для выполнения дз**:\n",
    "- Лукашин Ю.П. Адаптивные методы краткосрочного прогнозирования временных рядов. Финансы и статистика. 2003, главы 1,4,5,7.\n",
    "- Магнус Я.Р., Катышев П.К., Пересецкий А.А. Эконометрика. Начальный курс., глава 11\n",
    "\n",
    "**Оформление дз**: \n",
    "- Выполненное задание требуется отправлять через <a href='https://goo.gl/forms/XPSIbwp7wPxB4SsI3'>форму </a>\n",
    "    - <span style=\"color:red; font-size: 20pt\">ВНИМАНИЕ: для отправки задания потребуется почта в домене gmail.com или phystech.edu</span>\n",
    "    \n",
    "- Укажите тему письма в следующем формате ``ML2018_fall_<номер_группы>_<фамилия>``, к примеру -- ``ML2018_fall_594_ivanov``\n",
    "- Выполненное дз сохраните в файл ``<фамилия>_<группа>_task<номер>.ipynb``, к примеру -- ``ivanov_401_task1.ipynb``\n",
    "\n",
    "**Вопросы**:\n",
    "- Вопросы присылайте на почту ml.course.mipt@gmail.com\n",
    "- Укажите тему письма в следующем формате ``ML2018_fall_Question_<Тема вопроса>``\n",
    "\n",
    "--------\n",
    "- **PS1**: Будьте внимательны при заполнении формы, когда отправляете ДЗ "
   ]
  },
  {
   "cell_type": "markdown",
   "metadata": {},
   "source": [
    "<h1 align=\"center\">Теоретическая часть (15%)</h1> "
   ]
  },
  {
   "cell_type": "markdown",
   "metadata": {},
   "source": [
    "Ответе на вопросы своими словами (загугленный материал надо пересказать), ответ обоснуйте (напишите и ОБЪЯСНИТЕ формулки если потребуется), если не выходит, то вернитесь к лекции дополнительным материалам:\n",
    "\n",
    "**Вопрос 1**: Пусть дан временной ряд $y_t = \\delta\\cdot t + \\varepsilon_t$, где $\\varepsilon_t$ - случайная величина с нулевым матожиданием и не зависящей от времени дисперсией $\\sigma$, $E \\varepsilon_t \\varepsilon_{t+k}=0$ при $k\\not=0$, Докажите, что оптимальное значение параметра сглаживания $\\alpha$ в алгоритме простого экспоненциального сглаживания для такого временного ряда будет равно 1.\n",
    "\n",
    "<Ответ>\n",
    "\n",
    "**Вопрос 2**: Докажите  эквивалетность формул расчёта (в рекуррентной форме и в форме корректировки прогноза (correction error form) )скрытых компонент временного ряда для модели линейного затухающего тренда:\n",
    "\n",
    "$$ l_{t}= \\alpha y_t + \\left(1-\\alpha\\right) \\left(l_{t-1} +\\phi b_{t-1}\\right)\\color{red}{=}l_{t-1} +\\phi b_{t-1} + \\alpha e_t$$,\n",
    "$$ b_t         = \\beta \\left(l_t - l_{t-1}\\right) + \\left(1-\\beta\\right)\\phi b_{t-1}\\color{red}{=}\\phi b_{t-1} +  \\alpha\\beta e_t.$$\n",
    "\n",
    "<Ответ>\n",
    "\n",
    "**Вопрос 3**: Выведите формулу расчёта скрытых компонент в форме корректировки прогноза (correction error form) временного ряда в модели ЭС с мультипликативным затухающим трендом (WS with multiplicative damped trend):\n",
    "   \n",
    "### \\begin{align*}\n",
    "\t\t\\hat{y}_{t+d|t} &= l_t b_t^{\\left(\\phi + \\phi^2 + \\dots + \\phi^{d}\\right)}, \\\\\n",
    "\t\tl_{t}       &= \\alpha y_t + \\left(1-\\alpha\\right) l_{t-1} b_{t-1}^{\\phi}, \\\\\n",
    "\t\tb_t         &= \\beta\\frac{l_t}{l_{t-1}} + \\left(1-\\beta\\right)b_{t-1}^{\\phi}.\n",
    "\\end{align*}\n",
    "\t\t\n",
    "\n",
    "<Ответ>\n",
    "\n",
    "-----------\n",
    "PS: Если проверяющий не понял ответ на большинство вопросов, то будет пичалька. Пишите так, чтобы можно было разобраться. "
   ]
  },
  {
   "cell_type": "markdown",
   "metadata": {},
   "source": [
    "<h1 align=\"center\"> Реализация алгоритма из семейства ES (85%) </h1>\n",
    "\n",
    "Суть задания: реализовать, применить на данных monthly_wage модель Уинтерса с линейным трендом. \n",
    "## $$\\hat y_{t+d} = (l_t + b_t d) \\cdot s_{t + (d \\bmod p) -p}.$$\n",
    "Результат нужно сравнить с прогнозом модели Тейла-Вейджа."
   ]
  },
  {
   "cell_type": "code",
   "execution_count": null,
   "metadata": {
    "collapsed": true
   },
   "outputs": [],
   "source": [
    "# start with this code\n",
    "import pandas as pd\n",
    "import numpy as np\n",
    "from utils import TheilWageExponentialSmoothing, BuildForecast, plotTSForecast\n",
    "from utils import qualityRMSE, qualityMedianAE, qualityMACAPE, qualitySSE, qualityMSE, qualityMAPE \n",
    "\n",
    "%matplotlib inline\n",
    "\n",
    "\n",
    "wage = pd.read_csv('???/mothly_wage.csv', sep=???, decimal=???, index_col=???, parse_dates=True, dayfirst=True)\n",
    "\n",
    "# Put your code below\n",
    "wage.plot(figsize=(15,5))"
   ]
  },
  {
   "cell_type": "markdown",
   "metadata": {},
   "source": [
    "# 1. Build the Forecast with Theil-Wage Model (25%)\n",
    "\n",
    "You need to apply Theil-Wage model (see seminar 1) for the TS <span style=\"color:blue; font-family:'New Times Roman'; font-size:14pt\">monthly-wage.csv</span>.\n",
    "\n",
    "Forecast delay $h=1$ for all point in this task.\n",
    "\n",
    "\n",
    "* 0) Forecast Wage TS with Theil-Wage $\\alpha=.1, \\beta=0.3, \\gamma=0.3$.\n",
    "* 1) Find the best param $\\alpha, \\beta, \\gamma$ of Theil-Wage for data period from 09.1998 to 01.2015. \n",
    "* 2) Draw the forecast that correspond to IES with optimial value $\\alpha$ (use time steps from 09.1998 to 01.2017.)\n",
    "     Conclude whether IES can be used for this TS? If can not than explain why.\n",
    "* 3) Calculate loss of the forecast of TS in [02.2015, 01.2017]. (You can choose any Loss function from seminar 1)."
   ]
  },
  {
   "cell_type": "markdown",
   "metadata": {},
   "source": [
    "## 1) Search for the optimal $\\alpha$, $\\beta$, $\\gamma$ (10%)"
   ]
  },
  {
   "cell_type": "code",
   "execution_count": null,
   "metadata": {},
   "outputs": [],
   "source": [
    "ALPHA = ???\n",
    "BETA = ???\n",
    "GAMMA = ???\n",
    "twes_params_array = [{'beta':beta, 'gamma':gamma, 'alpha':alpha, 'AdaptationPeriod':10, 'seasonality_period':7} for gamma in GAMMA for beta in BETA for alpha in ALPHA]\n",
    "TWES_FRC_TS = BuildForecast(h=1, ts=???, AlgName =  ???, AlgTitle=???,ParamsArray = twes_params_array)"
   ]
  },
  {
   "cell_type": "code",
   "execution_count": null,
   "metadata": {},
   "outputs": [],
   "source": [
    "# find best TWES parameters\n",
    "QualityStr = pd.DataFrame(index = wage.columns, columns = FRC_WAGE.keys())\n",
    "\n",
    "ix = wage.loc[???].index\n",
    "for param_cntr in sorted(QualityStr.columns):\n",
    "    frc_wage = FRC_WAGE[param_cntr]\n",
    "    QualityStr[param_cntr],_ = quality???(wage.loc[ix], frc_wage.loc[ix])\n",
    "\n",
    "QualityStr[QualityStr.columns].mean().sort_values()"
   ]
  },
  {
   "cell_type": "markdown",
   "metadata": {},
   "source": [
    "## 2) draw the forecast with optimial value $\\alpha $  (10%)"
   ]
  },
  {
   "cell_type": "code",
   "execution_count": null,
   "metadata": {},
   "outputs": [],
   "source": [
    "# example of code:\n",
    "algName = QualityStr[QualityStr.columns].mean().sort_values().index[0]\n",
    "plotTSForecast(wage.loc[???], FRC_WAGE[algName].loc[???]\n",
    "               , ts_num=???, alg_title=???)"
   ]
  },
  {
   "cell_type": "markdown",
   "metadata": {},
   "source": [
    "## 3) Calculate loss of the forecast of TS in [02.2015, 01.2017] (5%)"
   ]
  },
  {
   "cell_type": "code",
   "execution_count": null,
   "metadata": {},
   "outputs": [],
   "source": [
    "# example of code:\n",
    "quality???(wage.loc[???], FRC_WAGE[algName].loc[???])[0]"
   ]
  },
  {
   "cell_type": "markdown",
   "metadata": {},
   "source": [
    "# 2. Non-additive model of ES (60%)\n",
    "You need to realize Winters model with linear trend and then use it for forecasting real TS <span style=\"color:blue; font-family:'New Times Roman'; font-size:14pt\">monthly-wage.csv</span>.\n",
    "\n",
    "Forecast delay $h=1$ for all point in this task.\n"
   ]
  },
  {
   "cell_type": "markdown",
   "metadata": {},
   "source": [
    "## 1) Realize Winters Model with Linear trend (20%)"
   ]
  },
  {
   "cell_type": "code",
   "execution_count": null,
   "metadata": {
    "collapsed": true
   },
   "outputs": [],
   "source": [
    "# Start with this code\n",
    "###################### Winters Exponential Smoothing #########################\n",
    "# x <array Tx1>- time series, \n",
    "# h <scalar> - forecasting delay\n",
    "# Params <dict> - dictionary with \n",
    "#    alpha <scalar in [0,1]> - smoothing parameter of level\n",
    "#    beta <scalar in [0,1]> - smoothing parameter of trend\n",
    "#    gamma <scalar in [0,1]> - smoothing parameter of seasonality\n",
    "def WintersLinearTrendExponentialSmoothing(x, h, Params):\n",
    "    T = len(x)\n",
    "    alpha = Params['alpha']\n",
    "    beta = Params['beta']\n",
    "    gamma = Params['gamma']\n",
    "    \n",
    "    p = Params['seasonality_period']\n",
    "    \n",
    "    FORECAST = ## put foreast of the model here\n",
    "    \n",
    "    l= # initialize ts level \n",
    "    b = # initialize ts trend\n",
    "    s= # initalize seasonality values (it must be vector of lenth p)\n",
    "    \n",
    "    \n",
    "    for cntr in range(T):\n",
    "        if not math.isnan(x[cntr]):\n",
    "            if math.isnan(l):\n",
    "                l= # initialize \n",
    " \n",
    "            if math.isnan(s[cntr % p]):\n",
    "                s[cntr % p]= # initialize \n",
    " \n",
    "            l = # recurrent smoothing of level\n",
    "            b = # recurrent smoothing of trend\n",
    "            s[cntr % p] = # recurrent smoothing of seasonality\n",
    "            \n",
    "        FORECAST[cntr+h] = a + b[cntr+h % s]\n",
    "    return FORECAST"
   ]
  },
  {
   "cell_type": "markdown",
   "metadata": {},
   "source": [
    "## 2) Find optimal params of the model (10%)\n",
    "(use data from 09.1998 to 01.2015). (Loss function should be the same as for Theil-Wage model)"
   ]
  },
  {
   "cell_type": "code",
   "execution_count": null,
   "metadata": {
    "collapsed": true
   },
   "outputs": [],
   "source": [
    "# Put your code here\n"
   ]
  },
  {
   "cell_type": "markdown",
   "metadata": {},
   "source": [
    "## 3) Draw forecast with optimal values of it's params (10%)\n",
    "(data from 09.1998 to 01.2017)"
   ]
  },
  {
   "cell_type": "code",
   "execution_count": null,
   "metadata": {},
   "outputs": [],
   "source": [
    "# Put your code here\n"
   ]
  },
  {
   "cell_type": "markdown",
   "metadata": {},
   "source": [
    "## 4) Calculate accuracy of the forecast of TS in [02.2015, 01.2017] (10%)\n",
    "(Loss function should be the same as for Theil-Wage model). "
   ]
  },
  {
   "cell_type": "code",
   "execution_count": null,
   "metadata": {},
   "outputs": [],
   "source": [
    "# Put your code here\n"
   ]
  },
  {
   "cell_type": "markdown",
   "metadata": {},
   "source": [
    "## 5) Compare Winters Model with linear thend and Theil-Wage model (10%) \n",
    "Which forecast is better (more accurate)?\n",
    "Is it true that multiplicative model is more appropriate then Theil-Wage Model to this time series?\n",
    "Hint: you should use for example Diebold-Mariano test (see here https://github.com/johntwk/Diebold-Mariano-Test) to make a conclusion."
   ]
  },
  {
   "cell_type": "code",
   "execution_count": null,
   "metadata": {},
   "outputs": [],
   "source": [
    "# Put your code here\n"
   ]
  }
 ],
 "metadata": {
  "anaconda-cloud": {},
  "kernelspec": {
   "display_name": "Python 3",
   "language": "python",
   "name": "python3"
  },
  "language_info": {
   "codemirror_mode": {
    "name": "ipython",
    "version": 3
   },
   "file_extension": ".py",
   "mimetype": "text/x-python",
   "name": "python",
   "nbconvert_exporter": "python",
   "pygments_lexer": "ipython3",
   "version": "3.5.5"
  }
 },
 "nbformat": 4,
 "nbformat_minor": 1
}
